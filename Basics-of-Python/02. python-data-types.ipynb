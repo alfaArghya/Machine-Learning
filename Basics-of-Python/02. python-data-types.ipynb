{
 "cells": [
  {
   "cell_type": "markdown",
   "id": "8bab2dd2",
   "metadata": {},
   "source": [
    "## Basic Types"
   ]
  },
  {
   "cell_type": "markdown",
   "id": "0f4b51f1",
   "metadata": {},
   "source": [
    "### Integer"
   ]
  },
  {
   "cell_type": "code",
   "execution_count": 1,
   "id": "3b4dcc79",
   "metadata": {},
   "outputs": [
    {
     "name": "stdout",
     "output_type": "stream",
     "text": [
      "13\n",
      "<class 'int'>\n"
     ]
    }
   ],
   "source": [
    "a = 13\n",
    "print(a)\n",
    "print(type(a))"
   ]
  },
  {
   "cell_type": "code",
   "execution_count": 2,
   "id": "0475d9a0",
   "metadata": {},
   "outputs": [
    {
     "name": "stdout",
     "output_type": "stream",
     "text": [
      "inf\n"
     ]
    }
   ],
   "source": [
    "a = 1e309 # --> 1 follows by 300 zeros, it is a very large number\n",
    "print(a)"
   ]
  },
  {
   "cell_type": "markdown",
   "id": "79ab0679",
   "metadata": {},
   "source": [
    "### Float"
   ]
  },
  {
   "cell_type": "code",
   "execution_count": 3,
   "id": "eb0427a7",
   "metadata": {},
   "outputs": [
    {
     "name": "stdout",
     "output_type": "stream",
     "text": [
      "13.6\n",
      "<class 'float'>\n"
     ]
    }
   ],
   "source": [
    "b = 13.6\n",
    "print(b)\n",
    "print(type(b))"
   ]
  },
  {
   "cell_type": "code",
   "execution_count": 4,
   "id": "7fc20110",
   "metadata": {},
   "outputs": [
    {
     "name": "stdout",
     "output_type": "stream",
     "text": [
      "1.36e+301\n"
     ]
    }
   ],
   "source": [
    "b = 13.6e300\n",
    "print(b)"
   ]
  },
  {
   "cell_type": "markdown",
   "id": "4924fb39",
   "metadata": {},
   "source": [
    "### Boolean"
   ]
  },
  {
   "cell_type": "code",
   "execution_count": 5,
   "id": "149a09aa",
   "metadata": {},
   "outputs": [
    {
     "name": "stdout",
     "output_type": "stream",
     "text": [
      "True  type ->  <class 'bool'>\n",
      "False  type ->  <class 'bool'>\n"
     ]
    }
   ],
   "source": [
    "c = True\n",
    "d = False\n",
    "print(c,\" type -> \",type(c))\n",
    "print(d,\" type -> \",type(d))"
   ]
  },
  {
   "cell_type": "markdown",
   "id": "052230fc",
   "metadata": {},
   "source": [
    "### Complex"
   ]
  },
  {
   "cell_type": "code",
   "execution_count": 6,
   "id": "1791ca6a",
   "metadata": {},
   "outputs": [
    {
     "name": "stdout",
     "output_type": "stream",
     "text": [
      "(13.6+23j)\n",
      "<class 'complex'>\n"
     ]
    }
   ],
   "source": [
    "e = 13.6 + 23j\n",
    "print(e)\n",
    "print(type(e))"
   ]
  },
  {
   "cell_type": "markdown",
   "id": "eb983e40",
   "metadata": {},
   "source": [
    "### String\n"
   ]
  },
  {
   "cell_type": "code",
   "execution_count": 7,
   "id": "c1cd0445",
   "metadata": {},
   "outputs": [
    {
     "name": "stdout",
     "output_type": "stream",
     "text": [
      "I am alfaArghya\n",
      "\n",
      "I am alfaArghya. I am a introvert coder\n",
      "\n",
      "I am alfaArghya.\n",
      "I am a introvert coder\n",
      "\n",
      "<class 'str'>\n"
     ]
    }
   ],
   "source": [
    "f = 'I am alfaArghya'\n",
    "print(f)\n",
    "print()\n",
    "\n",
    "f = \"I am alfaArghya. I am a introvert coder\"\n",
    "print(f)\n",
    "print()\n",
    "\n",
    "f = '''I am alfaArghya.\n",
    "I am a introvert coder'''\n",
    "print(f)\n",
    "print()\n",
    "\n",
    "print(type(f))"
   ]
  },
  {
   "cell_type": "code",
   "execution_count": null,
   "id": "fc7d30ea",
   "metadata": {},
   "outputs": [],
   "source": []
  },
  {
   "cell_type": "markdown",
   "id": "b1d5e885",
   "metadata": {},
   "source": [
    "## Container types"
   ]
  },
  {
   "cell_type": "markdown",
   "id": "0dd81683",
   "metadata": {},
   "source": [
    "### Tuple"
   ]
  },
  {
   "cell_type": "code",
   "execution_count": 8,
   "id": "87b34907",
   "metadata": {},
   "outputs": [
    {
     "name": "stdout",
     "output_type": "stream",
     "text": [
      "(4, 7, 4, 3, 8, 1, 9, 1, 0)\n",
      "<class 'tuple'>\n"
     ]
    }
   ],
   "source": [
    "t = (4,7,4,3,8,1,9,1,0)\n",
    "print(t)\n",
    "print(type(t))"
   ]
  },
  {
   "cell_type": "markdown",
   "id": "ab075209",
   "metadata": {},
   "source": [
    "### Set"
   ]
  },
  {
   "cell_type": "code",
   "execution_count": 9,
   "id": "6b21923c",
   "metadata": {},
   "outputs": [
    {
     "name": "stdout",
     "output_type": "stream",
     "text": [
      "{0, 1, 3, 4, 7, 8, 9}\n",
      "<class 'set'>\n"
     ]
    }
   ],
   "source": [
    "s = {4,7,4,3,8,1,9,1,0}\n",
    "print(s)\n",
    "print(type(s))"
   ]
  },
  {
   "cell_type": "markdown",
   "id": "0fe0a1de",
   "metadata": {},
   "source": [
    "### List"
   ]
  },
  {
   "cell_type": "code",
   "execution_count": 10,
   "id": "e4cd0dbf",
   "metadata": {},
   "outputs": [
    {
     "name": "stdout",
     "output_type": "stream",
     "text": [
      "[4, 7, 4, 3, 8, 1, 9, 1, 0]\n",
      "<class 'list'>\n"
     ]
    }
   ],
   "source": [
    "l = [4,7,4,3,8,1,9,1,0]\n",
    "print(l)\n",
    "print(type(l))"
   ]
  },
  {
   "cell_type": "markdown",
   "id": "c70741a2",
   "metadata": {},
   "source": [
    "### Dictionary"
   ]
  },
  {
   "cell_type": "code",
   "execution_count": 11,
   "id": "3c1bd16d",
   "metadata": {},
   "outputs": [
    {
     "name": "stdout",
     "output_type": "stream",
     "text": [
      "{4: 3, 8: 1, 9: 1}\n",
      "<class 'dict'>\n"
     ]
    }
   ],
   "source": [
    "d = {4:7, 4:3, 8:1, 9:1}\n",
    "print(d)\n",
    "print(type(d))"
   ]
  },
  {
   "cell_type": "code",
   "execution_count": null,
   "id": "1b5a9566",
   "metadata": {},
   "outputs": [],
   "source": []
  },
  {
   "cell_type": "markdown",
   "id": "a16a5354",
   "metadata": {},
   "source": [
    "## User Defines Types"
   ]
  },
  {
   "cell_type": "code",
   "execution_count": 12,
   "id": "643e7591",
   "metadata": {},
   "outputs": [
    {
     "name": "stdout",
     "output_type": "stream",
     "text": [
      "10\n"
     ]
    }
   ],
   "source": [
    "class udf:\n",
    "    pass\n",
    "\n",
    "obj = udf()\n",
    "obj.x = 10\n",
    "print(obj.x)"
   ]
  },
  {
   "cell_type": "code",
   "execution_count": null,
   "id": "ead82685",
   "metadata": {},
   "outputs": [],
   "source": []
  }
 ],
 "metadata": {
  "kernelspec": {
   "display_name": "Python 3 (ipykernel)",
   "language": "python",
   "name": "python3"
  },
  "language_info": {
   "codemirror_mode": {
    "name": "ipython",
    "version": 3
   },
   "file_extension": ".py",
   "mimetype": "text/x-python",
   "name": "python",
   "nbconvert_exporter": "python",
   "pygments_lexer": "ipython3",
   "version": "3.10.7"
  }
 },
 "nbformat": 4,
 "nbformat_minor": 5
}
