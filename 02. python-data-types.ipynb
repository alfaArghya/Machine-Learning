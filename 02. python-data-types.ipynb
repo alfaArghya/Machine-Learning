{
 "cells": [
  {
   "cell_type": "markdown",
   "id": "9b540e0b",
   "metadata": {},
   "source": [
    "## Basic Types"
   ]
  },
  {
   "cell_type": "markdown",
   "id": "a09037f7",
   "metadata": {},
   "source": [
    "### Integer"
   ]
  },
  {
   "cell_type": "code",
   "execution_count": 2,
   "id": "62df5cea",
   "metadata": {},
   "outputs": [
    {
     "name": "stdout",
     "output_type": "stream",
     "text": [
      "13\n",
      "<class 'int'>\n"
     ]
    }
   ],
   "source": [
    "a = 13\n",
    "print(a)\n",
    "print(type(a))"
   ]
  },
  {
   "cell_type": "code",
   "execution_count": 9,
   "id": "c3687c74",
   "metadata": {},
   "outputs": [
    {
     "name": "stdout",
     "output_type": "stream",
     "text": [
      "inf\n"
     ]
    }
   ],
   "source": [
    "a = 1e309 # --> 1 follows by 300 zeros, it is a very large number\n",
    "print(a)"
   ]
  },
  {
   "cell_type": "markdown",
   "id": "933296b5",
   "metadata": {},
   "source": [
    "### Float"
   ]
  },
  {
   "cell_type": "code",
   "execution_count": 3,
   "id": "15ace307",
   "metadata": {},
   "outputs": [
    {
     "name": "stdout",
     "output_type": "stream",
     "text": [
      "13.6\n",
      "<class 'float'>\n"
     ]
    }
   ],
   "source": [
    "b = 13.6\n",
    "print(b)\n",
    "print(type(b))"
   ]
  },
  {
   "cell_type": "code",
   "execution_count": 11,
   "id": "7a5a8e53",
   "metadata": {},
   "outputs": [
    {
     "name": "stdout",
     "output_type": "stream",
     "text": [
      "1.36e+301\n"
     ]
    }
   ],
   "source": [
    "b = 13.6e300\n",
    "print(b)"
   ]
  },
  {
   "cell_type": "markdown",
   "id": "bde9acdc",
   "metadata": {},
   "source": [
    "### Boolean"
   ]
  },
  {
   "cell_type": "code",
   "execution_count": 13,
   "id": "97b7deba",
   "metadata": {},
   "outputs": [
    {
     "name": "stdout",
     "output_type": "stream",
     "text": [
      "True  type ->  <class 'bool'>\n",
      "False  type ->  <class 'bool'>\n"
     ]
    }
   ],
   "source": [
    "c = True\n",
    "d = False\n",
    "print(c,\" type -> \",type(c))\n",
    "print(d,\" type -> \",type(d))"
   ]
  },
  {
   "cell_type": "markdown",
   "id": "cee737ea",
   "metadata": {},
   "source": [
    "### Complex"
   ]
  },
  {
   "cell_type": "code",
   "execution_count": 16,
   "id": "b1969f98",
   "metadata": {},
   "outputs": [
    {
     "name": "stdout",
     "output_type": "stream",
     "text": [
      "(13.6+23j)\n",
      "<class 'complex'>\n"
     ]
    }
   ],
   "source": [
    "e = 13.6 + 23j\n",
    "print(e)\n",
    "print(type(e))"
   ]
  },
  {
   "cell_type": "markdown",
   "id": "c8613c3d",
   "metadata": {},
   "source": [
    "### String\n"
   ]
  },
  {
   "cell_type": "code",
   "execution_count": 23,
   "id": "1ffe5502",
   "metadata": {},
   "outputs": [
    {
     "name": "stdout",
     "output_type": "stream",
     "text": [
      "I am alfaArghya\n",
      "\n",
      "I am alfaArghya. I am a introvert coder\n",
      "\n",
      "I am alfaArghya.\n",
      "I am a introvert coder\n",
      "\n",
      "<class 'str'>\n"
     ]
    }
   ],
   "source": [
    "f = 'I am alfaArghya'\n",
    "print(f)\n",
    "print()\n",
    "\n",
    "f = \"I am alfaArghya. I am a introvert coder\"\n",
    "print(f)\n",
    "print()\n",
    "\n",
    "f = '''I am alfaArghya.\n",
    "I am a introvert coder'''\n",
    "print(f)\n",
    "print()\n",
    "\n",
    "print(type(f))"
   ]
  },
  {
   "cell_type": "code",
   "execution_count": null,
   "id": "8bd0a7c7",
   "metadata": {},
   "outputs": [],
   "source": []
  },
  {
   "cell_type": "markdown",
   "id": "42351151",
   "metadata": {},
   "source": [
    "## Container types"
   ]
  },
  {
   "cell_type": "markdown",
   "id": "aa24673a",
   "metadata": {},
   "source": [
    "### Tuple"
   ]
  },
  {
   "cell_type": "code",
   "execution_count": 25,
   "id": "90609a7a",
   "metadata": {},
   "outputs": [
    {
     "name": "stdout",
     "output_type": "stream",
     "text": [
      "(4, 7, 4, 3, 8, 1, 9, 1, 0)\n",
      "<class 'tuple'>\n"
     ]
    }
   ],
   "source": [
    "t = (4,7,4,3,8,1,9,1,0)\n",
    "print(t)\n",
    "print(type(t))"
   ]
  },
  {
   "cell_type": "markdown",
   "id": "e03aff40",
   "metadata": {},
   "source": [
    "### Set"
   ]
  },
  {
   "cell_type": "code",
   "execution_count": 32,
   "id": "e1e47676",
   "metadata": {},
   "outputs": [
    {
     "name": "stdout",
     "output_type": "stream",
     "text": [
      "{0, 1, 3, 4, 7, 8, 9}\n",
      "<class 'set'>\n"
     ]
    }
   ],
   "source": [
    "s = {4,7,4,3,8,1,9,1,0}\n",
    "print(s)\n",
    "print(type(s))"
   ]
  },
  {
   "cell_type": "markdown",
   "id": "b58889a5",
   "metadata": {},
   "source": [
    "### List"
   ]
  },
  {
   "cell_type": "code",
   "execution_count": 33,
   "id": "d414534d",
   "metadata": {},
   "outputs": [
    {
     "name": "stdout",
     "output_type": "stream",
     "text": [
      "[4, 7, 4, 3, 8, 1, 9, 1, 0]\n",
      "<class 'list'>\n"
     ]
    }
   ],
   "source": [
    "l = [4,7,4,3,8,1,9,1,0]\n",
    "print(l)\n",
    "print(type(l))"
   ]
  },
  {
   "cell_type": "markdown",
   "id": "c07beef3",
   "metadata": {},
   "source": [
    "### Dictionary"
   ]
  },
  {
   "cell_type": "code",
   "execution_count": 35,
   "id": "fa8f94ef",
   "metadata": {},
   "outputs": [
    {
     "name": "stdout",
     "output_type": "stream",
     "text": [
      "{4: 3, 8: 1, 9: 1}\n",
      "<class 'dict'>\n"
     ]
    }
   ],
   "source": [
    "d = {4:7, 4:3, 8:1, 9:1}\n",
    "print(d)\n",
    "print(type(d))"
   ]
  },
  {
   "cell_type": "code",
   "execution_count": null,
   "id": "0b401169",
   "metadata": {},
   "outputs": [],
   "source": []
  },
  {
   "cell_type": "markdown",
   "id": "ad5e73c9",
   "metadata": {},
   "source": [
    "## User Defines Types"
   ]
  },
  {
   "cell_type": "code",
   "execution_count": 44,
   "id": "b48b5f22",
   "metadata": {},
   "outputs": [
    {
     "name": "stdout",
     "output_type": "stream",
     "text": [
      "10\n"
     ]
    }
   ],
   "source": [
    "class udf:\n",
    "    pass\n",
    "\n",
    "obj = udf()\n",
    "obj.x = 10\n",
    "print(obj.x)"
   ]
  },
  {
   "cell_type": "code",
   "execution_count": null,
   "id": "573e6c05",
   "metadata": {},
   "outputs": [],
   "source": []
  }
 ],
 "metadata": {
  "kernelspec": {
   "display_name": "Python 3 (ipykernel)",
   "language": "python",
   "name": "python3"
  },
  "language_info": {
   "codemirror_mode": {
    "name": "ipython",
    "version": 3
   },
   "file_extension": ".py",
   "mimetype": "text/x-python",
   "name": "python",
   "nbconvert_exporter": "python",
   "pygments_lexer": "ipython3",
   "version": "3.10.7"
  }
 },
 "nbformat": 4,
 "nbformat_minor": 5
}
