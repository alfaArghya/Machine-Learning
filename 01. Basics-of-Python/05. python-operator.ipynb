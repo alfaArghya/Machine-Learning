{
 "cells": [
  {
   "cell_type": "markdown",
   "id": "77a5c10f",
   "metadata": {},
   "source": [
    "# Python Operator"
   ]
  },
  {
   "cell_type": "markdown",
   "id": "9bda810b",
   "metadata": {},
   "source": [
    "In Python programming, Operators in general are used to perform operations on values and variables. These are standard symbols used for the purpose of logical and arithmetic operations. In this article, we will look into different types of Python operators. \n",
    "\n",
    "    OPERATORS: These are the special symbols. Eg- + , * , /, etc.\n",
    "    OPERAND: It is the value on which the operator is applied."
   ]
  },
  {
   "cell_type": "markdown",
   "id": "882e0deb",
   "metadata": {},
   "source": [
    "## Arithmetic Operator "
   ]
  },
  {
   "cell_type": "code",
   "execution_count": 1,
   "id": "31aed262",
   "metadata": {},
   "outputs": [
    {
     "name": "stdout",
     "output_type": "stream",
     "text": [
      "10\n"
     ]
    }
   ],
   "source": [
    "print(5+5) #addition"
   ]
  },
  {
   "cell_type": "code",
   "execution_count": 3,
   "id": "e1378633",
   "metadata": {},
   "outputs": [
    {
     "name": "stdout",
     "output_type": "stream",
     "text": [
      "5\n"
     ]
    }
   ],
   "source": [
    "print(10-5) #subtraction"
   ]
  },
  {
   "cell_type": "code",
   "execution_count": 4,
   "id": "9277c0fc",
   "metadata": {},
   "outputs": [
    {
     "name": "stdout",
     "output_type": "stream",
     "text": [
      "200\n"
     ]
    }
   ],
   "source": [
    "print(10*20) #multiplication"
   ]
  },
  {
   "cell_type": "code",
   "execution_count": 5,
   "id": "7ef28a02",
   "metadata": {},
   "outputs": [
    {
     "name": "stdout",
     "output_type": "stream",
     "text": [
      "2.3333333333333335\n"
     ]
    }
   ],
   "source": [
    "print(7/3) #float division"
   ]
  },
  {
   "cell_type": "code",
   "execution_count": 6,
   "id": "04cc86f8",
   "metadata": {},
   "outputs": [
    {
     "name": "stdout",
     "output_type": "stream",
     "text": [
      "2\n"
     ]
    }
   ],
   "source": [
    "print(7//3) #integer division"
   ]
  },
  {
   "cell_type": "code",
   "execution_count": 8,
   "id": "e415670f",
   "metadata": {},
   "outputs": [
    {
     "name": "stdout",
     "output_type": "stream",
     "text": [
      "2\n"
     ]
    }
   ],
   "source": [
    "print(8%3) #modulus"
   ]
  },
  {
   "cell_type": "code",
   "execution_count": 9,
   "id": "fa847618",
   "metadata": {},
   "outputs": [
    {
     "name": "stdout",
     "output_type": "stream",
     "text": [
      "8\n"
     ]
    }
   ],
   "source": [
    "print(2**3) #power"
   ]
  },
  {
   "cell_type": "markdown",
   "id": "5b10b128",
   "metadata": {},
   "source": [
    "## Comparison Operator"
   ]
  },
  {
   "cell_type": "code",
   "execution_count": 10,
   "id": "e8d7671f",
   "metadata": {},
   "outputs": [
    {
     "name": "stdout",
     "output_type": "stream",
     "text": [
      "False\n"
     ]
    }
   ],
   "source": [
    "print(10>20) #greater than"
   ]
  },
  {
   "cell_type": "code",
   "execution_count": 11,
   "id": "0df87556",
   "metadata": {},
   "outputs": [
    {
     "name": "stdout",
     "output_type": "stream",
     "text": [
      "True\n"
     ]
    }
   ],
   "source": [
    "print(10<20) #less than"
   ]
  },
  {
   "cell_type": "code",
   "execution_count": 12,
   "id": "1cf835f4",
   "metadata": {},
   "outputs": [
    {
     "name": "stdout",
     "output_type": "stream",
     "text": [
      "False\n"
     ]
    }
   ],
   "source": [
    "print(10 == 20) #equal to"
   ]
  },
  {
   "cell_type": "code",
   "execution_count": 13,
   "id": "e33ec4b2",
   "metadata": {},
   "outputs": [
    {
     "name": "stdout",
     "output_type": "stream",
     "text": [
      "True\n"
     ]
    }
   ],
   "source": [
    "print(10 != 20) #not equal to"
   ]
  },
  {
   "cell_type": "code",
   "execution_count": 14,
   "id": "25547bfd",
   "metadata": {},
   "outputs": [
    {
     "name": "stdout",
     "output_type": "stream",
     "text": [
      "False\n"
     ]
    }
   ],
   "source": [
    "print(10 >= 20) #greater than or equal to"
   ]
  },
  {
   "cell_type": "code",
   "execution_count": 15,
   "id": "f79ad458",
   "metadata": {},
   "outputs": [
    {
     "name": "stdout",
     "output_type": "stream",
     "text": [
      "True\n"
     ]
    }
   ],
   "source": [
    "print(10 <= 20) #less than or equal to"
   ]
  },
  {
   "cell_type": "markdown",
   "id": "6b85ab8b",
   "metadata": {},
   "source": [
    "## Logical Operator"
   ]
  },
  {
   "cell_type": "code",
   "execution_count": 24,
   "id": "043bb4bf",
   "metadata": {},
   "outputs": [],
   "source": [
    "a = True\n",
    "b = False"
   ]
  },
  {
   "cell_type": "code",
   "execution_count": 25,
   "id": "85ae4eff",
   "metadata": {},
   "outputs": [
    {
     "name": "stdout",
     "output_type": "stream",
     "text": [
      "False\n"
     ]
    }
   ],
   "source": [
    "print(a and b) #logical and"
   ]
  },
  {
   "cell_type": "code",
   "execution_count": 26,
   "id": "288e6ba9",
   "metadata": {},
   "outputs": [
    {
     "name": "stdout",
     "output_type": "stream",
     "text": [
      "True\n"
     ]
    }
   ],
   "source": [
    "print(a or b) #logical or"
   ]
  },
  {
   "cell_type": "code",
   "execution_count": 27,
   "id": "bff698db",
   "metadata": {},
   "outputs": [
    {
     "name": "stdout",
     "output_type": "stream",
     "text": [
      "False\n"
     ]
    }
   ],
   "source": [
    "print(not a) #logical not"
   ]
  },
  {
   "cell_type": "markdown",
   "id": "b851dbb8",
   "metadata": {},
   "source": [
    "## Bitwise Operators"
   ]
  },
  {
   "cell_type": "code",
   "execution_count": 28,
   "id": "15b9c223",
   "metadata": {},
   "outputs": [],
   "source": [
    "a = 10\n",
    "b = 4"
   ]
  },
  {
   "cell_type": "code",
   "execution_count": 29,
   "id": "54818dc2",
   "metadata": {},
   "outputs": [
    {
     "name": "stdout",
     "output_type": "stream",
     "text": [
      "0\n"
     ]
    }
   ],
   "source": [
    "print(a&b) #bitwise AND"
   ]
  },
  {
   "cell_type": "code",
   "execution_count": 30,
   "id": "83c7ca9f",
   "metadata": {},
   "outputs": [
    {
     "name": "stdout",
     "output_type": "stream",
     "text": [
      "14\n"
     ]
    }
   ],
   "source": [
    "print(a|b) #bitwise OR"
   ]
  },
  {
   "cell_type": "code",
   "execution_count": 31,
   "id": "a5a04213",
   "metadata": {},
   "outputs": [
    {
     "name": "stdout",
     "output_type": "stream",
     "text": [
      "-11\n"
     ]
    }
   ],
   "source": [
    "print(~a) #bitwise NOT"
   ]
  },
  {
   "cell_type": "code",
   "execution_count": 32,
   "id": "e92a7c1c",
   "metadata": {},
   "outputs": [
    {
     "name": "stdout",
     "output_type": "stream",
     "text": [
      "14\n"
     ]
    }
   ],
   "source": [
    "print(a^b) #bitwise XOR"
   ]
  },
  {
   "cell_type": "code",
   "execution_count": 33,
   "id": "6715a2d0",
   "metadata": {},
   "outputs": [
    {
     "name": "stdout",
     "output_type": "stream",
     "text": [
      "2\n"
     ]
    }
   ],
   "source": [
    "print(a >> 2) #bitwise Right Shift operator"
   ]
  },
  {
   "cell_type": "code",
   "execution_count": 34,
   "id": "57737b45",
   "metadata": {},
   "outputs": [
    {
     "name": "stdout",
     "output_type": "stream",
     "text": [
      "40\n"
     ]
    }
   ],
   "source": [
    "print(a << 2) #bitwise Left Shift operator"
   ]
  },
  {
   "cell_type": "markdown",
   "id": "43943e70",
   "metadata": {},
   "source": [
    "## Assignment Operator"
   ]
  },
  {
   "cell_type": "code",
   "execution_count": 35,
   "id": "3b121d50",
   "metadata": {},
   "outputs": [
    {
     "name": "stdout",
     "output_type": "stream",
     "text": [
      "10\n"
     ]
    }
   ],
   "source": [
    "a = 10 #assign \n",
    "print(a)"
   ]
  },
  {
   "cell_type": "code",
   "execution_count": 44,
   "id": "ece87ec6",
   "metadata": {},
   "outputs": [
    {
     "name": "stdout",
     "output_type": "stream",
     "text": [
      "11\n"
     ]
    }
   ],
   "source": [
    "a = 10\n",
    "a += 1 # a = a+1\n",
    "print(a)"
   ]
  },
  {
   "cell_type": "code",
   "execution_count": 45,
   "id": "56070213",
   "metadata": {},
   "outputs": [
    {
     "name": "stdout",
     "output_type": "stream",
     "text": [
      "9\n"
     ]
    }
   ],
   "source": [
    "a = 10\n",
    "a -= 1 #a = a-1\n",
    "print(a)"
   ]
  },
  {
   "cell_type": "code",
   "execution_count": 46,
   "id": "47a52fed",
   "metadata": {},
   "outputs": [
    {
     "name": "stdout",
     "output_type": "stream",
     "text": [
      "50\n"
     ]
    }
   ],
   "source": [
    "a = 10\n",
    "a *= 5 # a = a*5\n",
    "print(a)"
   ]
  },
  {
   "cell_type": "code",
   "execution_count": 50,
   "id": "3a0f0d61",
   "metadata": {},
   "outputs": [
    {
     "name": "stdout",
     "output_type": "stream",
     "text": [
      "3.3333333333333335\n"
     ]
    }
   ],
   "source": [
    "a = 10\n",
    "a /= 3 # a = a / 3\n",
    "print(a)"
   ]
  },
  {
   "cell_type": "code",
   "execution_count": 51,
   "id": "a3b63882",
   "metadata": {},
   "outputs": [
    {
     "name": "stdout",
     "output_type": "stream",
     "text": [
      "3\n"
     ]
    }
   ],
   "source": [
    "a = 10\n",
    "a //= 3 # a = a // 3\n",
    "print(a)"
   ]
  },
  {
   "cell_type": "code",
   "execution_count": 53,
   "id": "a7368125",
   "metadata": {},
   "outputs": [
    {
     "name": "stdout",
     "output_type": "stream",
     "text": [
      "1\n"
     ]
    }
   ],
   "source": [
    "a = 10\n",
    "a %= 3 # a = a%3\n",
    "print(a)"
   ]
  },
  {
   "cell_type": "code",
   "execution_count": 54,
   "id": "96679400",
   "metadata": {},
   "outputs": [
    {
     "name": "stdout",
     "output_type": "stream",
     "text": [
      "1000\n"
     ]
    }
   ],
   "source": [
    "a = 10\n",
    "a **= 3 #a = a**3\n",
    "print(a)"
   ]
  },
  {
   "cell_type": "markdown",
   "id": "9b8ad4dd",
   "metadata": {},
   "source": [
    "and many more.........."
   ]
  },
  {
   "cell_type": "markdown",
   "id": "622b3969",
   "metadata": {},
   "source": [
    "## Membership Operator "
   ]
  },
  {
   "cell_type": "code",
   "execution_count": 62,
   "id": "61d7d898",
   "metadata": {},
   "outputs": [],
   "source": [
    "s = \"It is python language\"\n",
    "x = \"m\"\n",
    "y = \"py\"\n"
   ]
  },
  {
   "cell_type": "code",
   "execution_count": 63,
   "id": "f8eb4770",
   "metadata": {},
   "outputs": [
    {
     "name": "stdout",
     "output_type": "stream",
     "text": [
      "True\n"
     ]
    }
   ],
   "source": [
    "print(x not in s)"
   ]
  },
  {
   "cell_type": "code",
   "execution_count": 65,
   "id": "f2e08d88",
   "metadata": {},
   "outputs": [
    {
     "name": "stdout",
     "output_type": "stream",
     "text": [
      "False\n"
     ]
    }
   ],
   "source": [
    "print(y not in s)"
   ]
  },
  {
   "cell_type": "code",
   "execution_count": 66,
   "id": "33d3f199",
   "metadata": {},
   "outputs": [
    {
     "name": "stdout",
     "output_type": "stream",
     "text": [
      "False\n"
     ]
    }
   ],
   "source": [
    "print(x in s)"
   ]
  },
  {
   "cell_type": "code",
   "execution_count": 67,
   "id": "30ded974",
   "metadata": {},
   "outputs": [
    {
     "name": "stdout",
     "output_type": "stream",
     "text": [
      "True\n"
     ]
    }
   ],
   "source": [
    "print(y in s)"
   ]
  },
  {
   "cell_type": "code",
   "execution_count": null,
   "id": "beed2dbe",
   "metadata": {},
   "outputs": [],
   "source": []
  }
 ],
 "metadata": {
  "kernelspec": {
   "display_name": "Python 3 (ipykernel)",
   "language": "python",
   "name": "python3"
  },
  "language_info": {
   "codemirror_mode": {
    "name": "ipython",
    "version": 3
   },
   "file_extension": ".py",
   "mimetype": "text/x-python",
   "name": "python",
   "nbconvert_exporter": "python",
   "pygments_lexer": "ipython3",
   "version": "3.10.7"
  }
 },
 "nbformat": 4,
 "nbformat_minor": 5
}
