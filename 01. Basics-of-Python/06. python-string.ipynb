{
 "cells": [
  {
   "cell_type": "code",
   "execution_count": 1,
   "id": "72c0817d",
   "metadata": {},
   "outputs": [
    {
     "name": "stdout",
     "output_type": "stream",
     "text": [
      "I am alfaArghya\n",
      "\n",
      "I am alfaArghya. I am a introvert coder\n",
      "\n",
      "I am alfaArghya.\n",
      "I am a introvert coder\n",
      "\n",
      "<class 'str'>\n"
     ]
    }
   ],
   "source": [
    "f = 'I am alfaArghya'\n",
    "print(f)\n",
    "print()\n",
    "\n",
    "f = \"I am alfaArghya. I am a introvert coder\"\n",
    "print(f)\n",
    "print()\n",
    "\n",
    "f = '''I am alfaArghya.\n",
    "I am a introvert coder'''\n",
    "print(f)\n",
    "print()\n",
    "\n",
    "print(type(f))"
   ]
  },
  {
   "cell_type": "markdown",
   "id": "c070403b",
   "metadata": {},
   "source": [
    "## Accessing Character in String"
   ]
  },
  {
   "cell_type": "markdown",
   "id": "bd45c61a",
   "metadata": {},
   "source": [
    "#### String = \"I am alfaArghya\"\n",
    "    | I | * | a | m | * | a | l | f | a | A | r | g | h | y | a |\n",
    "      0   1   2   3   4   5   6   7   8   9   10  11  12  13 14   ---> indexing\n",
    "     -15 -14 -13 -12 -11 -10 -9  -8  -7  -6  -5  -4  -3  -2  -1   ---> reverse indexing or negative indexing"
   ]
  },
  {
   "cell_type": "code",
   "execution_count": 2,
   "id": "b2468f72",
   "metadata": {},
   "outputs": [],
   "source": [
    "s = \"I am alfaArghya\""
   ]
  },
  {
   "cell_type": "code",
   "execution_count": 18,
   "id": "fb8321e0",
   "metadata": {},
   "outputs": [
    {
     "name": "stdout",
     "output_type": "stream",
     "text": [
      "15\n"
     ]
    }
   ],
   "source": [
    "print(len(s)) #length of string"
   ]
  },
  {
   "cell_type": "code",
   "execution_count": 3,
   "id": "0c0e2c71",
   "metadata": {},
   "outputs": [
    {
     "name": "stdout",
     "output_type": "stream",
     "text": [
      "A\n"
     ]
    }
   ],
   "source": [
    "print(s[9]) #accessing a single character"
   ]
  },
  {
   "cell_type": "code",
   "execution_count": 5,
   "id": "52389206",
   "metadata": {},
   "outputs": [
    {
     "name": "stdout",
     "output_type": "stream",
     "text": [
      "m\n"
     ]
    }
   ],
   "source": [
    "print(s[-12]) #accessing a single character using neg-indexing"
   ]
  },
  {
   "cell_type": "markdown",
   "id": "9b1a1ca6",
   "metadata": {},
   "source": [
    "### reverse a string"
   ]
  },
  {
   "cell_type": "code",
   "execution_count": 6,
   "id": "54ba402d",
   "metadata": {},
   "outputs": [
    {
     "name": "stdout",
     "output_type": "stream",
     "text": [
      "ayhgrAafla ma I\n"
     ]
    }
   ],
   "source": [
    "print(s[::-1])"
   ]
  },
  {
   "cell_type": "markdown",
   "id": "7cf1d7b7",
   "metadata": {},
   "source": [
    "### String Slicing"
   ]
  },
  {
   "cell_type": "code",
   "execution_count": 7,
   "id": "41ea87d6",
   "metadata": {},
   "outputs": [
    {
     "name": "stdout",
     "output_type": "stream",
     "text": [
      "alfa\n"
     ]
    }
   ],
   "source": [
    "print(s[5:9]) "
   ]
  },
  {
   "cell_type": "code",
   "execution_count": 13,
   "id": "26c2ef43",
   "metadata": {},
   "outputs": [
    {
     "name": "stdout",
     "output_type": "stream",
     "text": [
      "alfa\n"
     ]
    }
   ],
   "source": [
    "print(s[-10:-6])"
   ]
  },
  {
   "cell_type": "code",
   "execution_count": 16,
   "id": "19bc7547",
   "metadata": {},
   "outputs": [
    {
     "name": "stdout",
     "output_type": "stream",
     "text": [
      "Ia larh\n"
     ]
    }
   ],
   "source": [
    "print(s[0:14:2]) #slicing with 2 character gap"
   ]
  },
  {
   "cell_type": "markdown",
   "id": "f3e67abb",
   "metadata": {},
   "source": [
    "### String is immutable"
   ]
  },
  {
   "cell_type": "code",
   "execution_count": 17,
   "id": "fe6c313e",
   "metadata": {},
   "outputs": [
    {
     "ename": "TypeError",
     "evalue": "'str' object does not support item assignment",
     "output_type": "error",
     "traceback": [
      "\u001b[1;31m---------------------------------------------------------------------------\u001b[0m",
      "\u001b[1;31mTypeError\u001b[0m                                 Traceback (most recent call last)",
      "Cell \u001b[1;32mIn [17], line 1\u001b[0m\n\u001b[1;32m----> 1\u001b[0m \u001b[43ms\u001b[49m\u001b[43m[\u001b[49m\u001b[38;5;241;43m12\u001b[39;49m\u001b[43m]\u001b[49m \u001b[38;5;241m=\u001b[39m \u001b[38;5;124m\"\u001b[39m\u001b[38;5;124mg\u001b[39m\u001b[38;5;124m\"\u001b[39m\n",
      "\u001b[1;31mTypeError\u001b[0m: 'str' object does not support item assignment"
     ]
    }
   ],
   "source": [
    "s[12] = \"g\" #we can not change any character in string"
   ]
  },
  {
   "cell_type": "markdown",
   "id": "3ff2eda7",
   "metadata": {},
   "source": [
    "### Some function of Strings"
   ]
  },
  {
   "cell_type": "code",
   "execution_count": 38,
   "id": "31457d1e",
   "metadata": {},
   "outputs": [],
   "source": [
    "s = \"    i am learning Python    \""
   ]
  },
  {
   "cell_type": "code",
   "execution_count": 39,
   "id": "0f4802e9",
   "metadata": {},
   "outputs": [
    {
     "name": "stdout",
     "output_type": "stream",
     "text": [
      "    I AM LEARNING PYTHON    \n"
     ]
    }
   ],
   "source": [
    "print(s.upper())"
   ]
  },
  {
   "cell_type": "code",
   "execution_count": 40,
   "id": "6b438f56",
   "metadata": {},
   "outputs": [
    {
     "name": "stdout",
     "output_type": "stream",
     "text": [
      "    i am learning python    \n"
     ]
    }
   ],
   "source": [
    "print(s.lower())"
   ]
  },
  {
   "cell_type": "code",
   "execution_count": 41,
   "id": "a62565d8",
   "metadata": {},
   "outputs": [
    {
     "name": "stdout",
     "output_type": "stream",
     "text": [
      "    i am learning python    \n"
     ]
    }
   ],
   "source": [
    "print(s.capitalize())"
   ]
  },
  {
   "cell_type": "code",
   "execution_count": 42,
   "id": "ed27c9b3",
   "metadata": {},
   "outputs": [
    {
     "name": "stdout",
     "output_type": "stream",
     "text": [
      "i am learning Python    \n"
     ]
    }
   ],
   "source": [
    "print(s.lstrip())"
   ]
  },
  {
   "cell_type": "code",
   "execution_count": 43,
   "id": "53106510",
   "metadata": {},
   "outputs": [
    {
     "name": "stdout",
     "output_type": "stream",
     "text": [
      "    i am learning Python\n"
     ]
    }
   ],
   "source": [
    "print(s.rstrip())"
   ]
  },
  {
   "cell_type": "code",
   "execution_count": 44,
   "id": "68c3867e",
   "metadata": {},
   "outputs": [
    {
     "name": "stdout",
     "output_type": "stream",
     "text": [
      "i am learning Python\n"
     ]
    }
   ],
   "source": [
    "print(s.strip())"
   ]
  },
  {
   "cell_type": "code",
   "execution_count": null,
   "id": "be4b8706",
   "metadata": {},
   "outputs": [],
   "source": []
  }
 ],
 "metadata": {
  "kernelspec": {
   "display_name": "Python 3 (ipykernel)",
   "language": "python",
   "name": "python3"
  },
  "language_info": {
   "codemirror_mode": {
    "name": "ipython",
    "version": 3
   },
   "file_extension": ".py",
   "mimetype": "text/x-python",
   "name": "python",
   "nbconvert_exporter": "python",
   "pygments_lexer": "ipython3",
   "version": "3.10.7"
  }
 },
 "nbformat": 4,
 "nbformat_minor": 5
}
