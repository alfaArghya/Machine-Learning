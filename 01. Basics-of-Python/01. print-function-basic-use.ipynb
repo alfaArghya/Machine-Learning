{
 "cells": [
  {
   "cell_type": "markdown",
   "id": "f7d201c2",
   "metadata": {},
   "source": [
    "## Print function"
   ]
  },
  {
   "cell_type": "code",
   "execution_count": 1,
   "id": "0ba41f13",
   "metadata": {},
   "outputs": [
    {
     "name": "stdout",
     "output_type": "stream",
     "text": [
      "Hello World\n"
     ]
    }
   ],
   "source": [
    "print(\"Hello World\")"
   ]
  },
  {
   "cell_type": "code",
   "execution_count": 2,
   "id": "dae48f82",
   "metadata": {},
   "outputs": [
    {
     "name": "stdout",
     "output_type": "stream",
     "text": [
      "Hello\n",
      "World\n"
     ]
    }
   ],
   "source": [
    "print(\"Hello\")\n",
    "print(\"World\")"
   ]
  },
  {
   "cell_type": "code",
   "execution_count": 3,
   "id": "1a33d16b",
   "metadata": {},
   "outputs": [
    {
     "name": "stdout",
     "output_type": "stream",
     "text": [
      "Hello World\n"
     ]
    }
   ],
   "source": [
    "print(\"Hello \", end = \"\")\n",
    "print(\"World\")"
   ]
  },
  {
   "cell_type": "code",
   "execution_count": 4,
   "id": "6bee4c09",
   "metadata": {},
   "outputs": [
    {
     "name": "stdout",
     "output_type": "stream",
     "text": [
      "13\n"
     ]
    }
   ],
   "source": [
    "print(13)#integer"
   ]
  },
  {
   "cell_type": "code",
   "execution_count": 5,
   "id": "839433de",
   "metadata": {},
   "outputs": [
    {
     "name": "stdout",
     "output_type": "stream",
     "text": [
      "13.6\n"
     ]
    }
   ],
   "source": [
    "print(13.6)#decimal number"
   ]
  },
  {
   "cell_type": "code",
   "execution_count": 6,
   "id": "63bb10ac",
   "metadata": {},
   "outputs": [
    {
     "name": "stdout",
     "output_type": "stream",
     "text": [
      "(13.6+23j)\n"
     ]
    }
   ],
   "source": [
    "print(13.6+23j)#complex number"
   ]
  },
  {
   "cell_type": "code",
   "execution_count": 7,
   "id": "418b112f",
   "metadata": {},
   "outputs": [
    {
     "name": "stdout",
     "output_type": "stream",
     "text": [
      "True\n"
     ]
    }
   ],
   "source": [
    "print(True)"
   ]
  },
  {
   "cell_type": "code",
   "execution_count": 8,
   "id": "656021e0",
   "metadata": {},
   "outputs": [
    {
     "name": "stdout",
     "output_type": "stream",
     "text": [
      "Date -->  13 / 6 / 23\n"
     ]
    }
   ],
   "source": [
    "print(\"Date --> \",13,\"/\",6,\"/\",23)"
   ]
  },
  {
   "cell_type": "code",
   "execution_count": 9,
   "id": "7a85a9eb",
   "metadata": {},
   "outputs": [
    {
     "name": "stdout",
     "output_type": "stream",
     "text": [
      "Date --> 13/6/23\n"
     ]
    }
   ],
   "source": [
    "print(f\"Date --> {13}/{6}/{23}\")"
   ]
  },
  {
   "cell_type": "code",
   "execution_count": 10,
   "id": "aa4954f8",
   "metadata": {},
   "outputs": [
    {
     "name": "stdout",
     "output_type": "stream",
     "text": [
      "Date --> 13/6/23\n"
     ]
    }
   ],
   "source": [
    "print(\"Date --> \", end = \"\")\n",
    "print(13,6,23, sep = \"/\")"
   ]
  }
 ],
 "metadata": {
  "kernelspec": {
   "display_name": "Python 3 (ipykernel)",
   "language": "python",
   "name": "python3"
  },
  "language_info": {
   "codemirror_mode": {
    "name": "ipython",
    "version": 3
   },
   "file_extension": ".py",
   "mimetype": "text/x-python",
   "name": "python",
   "nbconvert_exporter": "python",
   "pygments_lexer": "ipython3",
   "version": "3.10.7"
  }
 },
 "nbformat": 4,
 "nbformat_minor": 5
}
